{
  "nbformat": 4,
  "nbformat_minor": 0,
  "metadata": {
    "colab": {
      "name": "ocular_disease.ipynb",
      "provenance": []
    },
    "kernelspec": {
      "name": "python3",
      "display_name": "Python 3"
    },
    "language_info": {
      "name": "python"
    }
  },
  "cells": [
    {
      "cell_type": "markdown",
      "metadata": {
        "id": "inUGRYHhJ7T9"
      },
      "source": [
        "<H1>Project4_level1: 목표\n",
        "\n",
        "1. 캐글에서 안구질환 인식 데이터를 받아 안구질환을 진단하는 모델을 만들어보자\n",
        "\n",
        "2. 5000명의 환자의 안저 사진 데이터가 있고 라벨로는\n",
        "일반 : N, 당뇨병 : D, 녹내장 : G, 백내장 : C, 연령 관련 황반변성 : A\n",
        "고혈압 : H, 병적 근시 : M, 기타 질병 / 이상 : O\n",
        "\n",
        "Normal (N),\n",
        "Diabetes (D),\n",
        "Glaucoma (G),\n",
        "Cataract (C),\n",
        "Age related Macular Degeneration (A),\n",
        "Hypertension (H),\n",
        "Pathological Myopia (M),\n",
        "Other diseases/abnormalities (O)\n",
        "\n",
        "3. 이미지 분류 잘하는 모델 만들기 목표 80프로 이상"
      ]
    },
    {
      "cell_type": "code",
      "metadata": {
        "id": "mb77Q1YacV93"
      },
      "source": [
        "from google.colab import drive\n",
        "drive.mount('/content/drive')"
      ],
      "execution_count": null,
      "outputs": []
    },
    {
      "cell_type": "code",
      "metadata": {
        "id": "04pXBATHIPzk"
      },
      "source": [
        "import numpy as np\n",
        "import pandas as pd\n",
        "import os\n",
        "import cv2\n",
        "import matplotlib.pyplot as plt\n",
        "from tqdm import tqdm\n",
        "\n",
        "import tensorflow\n",
        "from tensorflow import keras\n"
      ],
      "execution_count": 1,
      "outputs": []
    },
    {
      "cell_type": "code",
      "metadata": {
        "id": "HeK_4dTPUhwl"
      },
      "source": [
        "#Step. model define \n",
        "\n",
        "from keras.applications.resnet50 import ResNet50\n",
        "from tensorflow.python.keras.models import Sequential\n",
        "from tensorflow.python,keras.layers import Dense\n",
        "\n",
        "Num_classes = 8 # N, D, G, C, A, H, M, O\n",
        "\n",
        "channels = 3 # 입력 이미지의 차원수 : RBG\n",
        "\n",
        "#학습된 네트워크 Resnet50\n",
        "image_size =224\n",
        "resnet_pooling_average = 'avg'\n",
        "dense_layer_activation = 'softmax'\n",
        "objective_function = 'categorical_crossentropy'\n",
        "\n",
        "#출력 metrics\n",
        "loss_metrics = ['accuracy']\n",
        "\n",
        "#early_stop\n",
        "num_epochs = 10\n",
        "early_stop_patience = 3\n",
        "\n",
        "step_per_epoch_training = 10\n",
        "step_per_epoch_validation = 10 \n",
        "\n",
        "batch_size_training = 100\n",
        "batch_size_validation = 100\n",
        "\n",
        "batch_size_testing = 1\n",
        "\n",
        "#Step model making\n",
        "\n",
        "model = sequential()\n",
        "model.add(Resnet50(include_top = False, pooling = resnet_pooling_average))\n",
        "model.add(Dense(Num_classes, activation = dense_layer_activation))\n",
        "\n",
        "model.layer[0].trainable =False\n",
        "\n",
        "#Step model compiler\n",
        "\n",
        "from tensorflow,keras import optimizers\n",
        "\n",
        "model.compile(optimizer = 'adam', loss = objective_function, metrics = loss_metrics)"
      ],
      "execution_count": null,
      "outputs": []
    },
    {
      "cell_type": "code",
      "metadata": {
        "id": "N4HTbgUBZFKY"
      },
      "source": [
        "# Step input image resize & augmentation\n",
        "\n",
        "from keras.applications.resnet50 import preprocess_input\n",
        "from keras.preprocessing.image import ImageDataGenerator\n",
        "\n",
        "data_generator = ImageDataGenerator(\n",
        "    preprocessing_function = preprocess_input,\n",
        "    featurewise_center = True,\n",
        "    featurewise_std_normalization = True,\n",
        "    rotation_state = 20,\n",
        "    width_sift_range = 0.2,\n",
        "    height_shift_range = 0.2,\n",
        "    horizontal_flip = True)\n",
        "\n",
        "data_generator.fit(train_images)"
      ],
      "execution_count": null,
      "outputs": []
    },
    {
      "cell_type": "code",
      "metadata": {
        "id": "VIu85TBSacaJ"
      },
      "source": [
        "#Step model learning\n",
        "\n",
        "model.fit(data_generator.flow(train_images, train_label, batch_size = 32), step_per_epoch = len(train_images)/ 32, epochs= num_epochs)"
      ],
      "execution_count": null,
      "outputs": []
    }
  ]
}